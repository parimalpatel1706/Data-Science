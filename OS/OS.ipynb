{
 "cells": [
  {
   "cell_type": "markdown",
   "id": "0826cf3b",
   "metadata": {},
   "source": [
    "### OS"
   ]
  },
  {
   "cell_type": "code",
   "execution_count": 1,
   "id": "0ae09195",
   "metadata": {},
   "outputs": [],
   "source": [
    "import os ## operating system module and import is a keyword"
   ]
  },
  {
   "cell_type": "code",
   "execution_count": 4,
   "id": "fbef9df6",
   "metadata": {},
   "outputs": [
    {
     "name": "stdout",
     "output_type": "stream",
     "text": [
      "current working directory:- c:\\Users\\PARIMAL\\OneDrive\\Desktop\\Data Science Internship\\OS\n"
     ]
    }
   ],
   "source": [
    "folder_path=os.getcwd() ## get current working directory\n",
    "print(\"current working directory:-\",folder_path)"
   ]
  },
  {
   "cell_type": "code",
   "execution_count": 5,
   "id": "91ff13c8",
   "metadata": {},
   "outputs": [
    {
     "name": "stdout",
     "output_type": "stream",
     "text": [
      "total list os current directory:- ['OS.ipynb']\n"
     ]
    }
   ],
   "source": [
    "total_file=os.listdir()\n",
    "print(\"total list os current directory:-\",total_file)"
   ]
  },
  {
   "cell_type": "code",
   "execution_count": 9,
   "id": "82f576aa",
   "metadata": {},
   "outputs": [
    {
     "name": "stdout",
     "output_type": "stream",
     "text": [
      "total list os current directory:- ['c language', 'C++', 'chatbot_model.keras', 'ChatGPT.html', 'ChatGPT_files', 'Cisco Packet Tracer.lnk', 'Data Science', 'Data Science Internship', 'desktop.ini', 'Dev-C++.lnk', 'Discord.lnk', 'DSA', 'GitHub.lnk', 'html', 'MinGW Installer.lnk', 'MinGW Shell.lnk', 'Norton Installation Files.lnk', 'Notion.lnk', 'OOPS', 'PARIMAL JITESH PATEL - Chrome.lnk', 'Parimal_patel_1706 - LeetCode Profile.lnk', 'Parimal_piet23cs120_panini_piet23cs119.docx', 'parimal_piet23cs120_panini_piet23cs119.pdf', 'php', 'PIET23CS109_PIET23CS122.pdf', 'Telegram.lnk', 'toxy', 'Visual Studio Code.lnk', 'WPS Office.lnk', 'WPS PDF.lnk', '~$_Notes_Unit_1_(1)[1].docx', '~$_Notes_Unit_3[1].docx']\n"
     ]
    }
   ],
   "source": [
    "total_file=os.listdir(r\"c:\\Users\\PARIMAL\\OneDrive\\Desktop\")\n",
    "print(\"total list os current directory:-\",total_file)"
   ]
  },
  {
   "cell_type": "code",
   "execution_count": 18,
   "id": "1b8e18fe",
   "metadata": {},
   "outputs": [
    {
     "name": "stdout",
     "output_type": "stream",
     "text": [
      "folder created succesfully\n"
     ]
    }
   ],
   "source": [
    "os.mkdir(\"demo\") ## creating folder\n",
    "print(\"folder created succesfully\")"
   ]
  },
  {
   "cell_type": "code",
   "execution_count": 19,
   "id": "fea9fa3d",
   "metadata": {},
   "outputs": [
    {
     "name": "stdout",
     "output_type": "stream",
     "text": [
      "total list os current directory:- ['data science', 'demo', 'OS.ipynb']\n"
     ]
    }
   ],
   "source": [
    "total_file=os.listdir()\n",
    "print(\"total list os current directory:-\",total_file)"
   ]
  },
  {
   "cell_type": "code",
   "execution_count": 21,
   "id": "2f4a2c7f",
   "metadata": {},
   "outputs": [
    {
     "name": "stdout",
     "output_type": "stream",
     "text": [
      "folder renamed successfully\n"
     ]
    }
   ],
   "source": [
    "os.rename(\"demo\", \"data\")\n",
    "print(\"folder renamed successfully\")"
   ]
  },
  {
   "cell_type": "code",
   "execution_count": 23,
   "id": "57cd5175",
   "metadata": {},
   "outputs": [
    {
     "name": "stdout",
     "output_type": "stream",
     "text": [
      "total list os current directory:- ['data', 'data science', 'OS.ipynb']\n"
     ]
    }
   ],
   "source": [
    "total_file=os.listdir()\n",
    "print(\"total list os current directory:-\",total_file)"
   ]
  },
  {
   "cell_type": "code",
   "execution_count": 26,
   "id": "44c29e4a",
   "metadata": {},
   "outputs": [
    {
     "ename": "PermissionError",
     "evalue": "[WinError 5] Access is denied: 'data'",
     "output_type": "error",
     "traceback": [
      "\u001b[31m---------------------------------------------------------------------------\u001b[39m",
      "\u001b[31mPermissionError\u001b[39m                           Traceback (most recent call last)",
      "\u001b[36mCell\u001b[39m\u001b[36m \u001b[39m\u001b[32mIn[26]\u001b[39m\u001b[32m, line 1\u001b[39m\n\u001b[32m----> \u001b[39m\u001b[32m1\u001b[39m \u001b[43mos\u001b[49m\u001b[43m.\u001b[49m\u001b[43mrmdir\u001b[49m\u001b[43m(\u001b[49m\u001b[33;43m\"\u001b[39;49m\u001b[33;43mdata\u001b[39;49m\u001b[33;43m\"\u001b[39;49m\u001b[43m)\u001b[49m \u001b[38;5;66;03m## removing folder\u001b[39;00m\n\u001b[32m      2\u001b[39m \u001b[38;5;28mprint\u001b[39m(\u001b[33m\"\u001b[39m\u001b[33mremoved successfully\u001b[39m\u001b[33m\"\u001b[39m)\n",
      "\u001b[31mPermissionError\u001b[39m: [WinError 5] Access is denied: 'data'"
     ]
    }
   ],
   "source": [
    "os.rmdir(\"data\") ## removing folder\n",
    "print(\"removed successfully\")"
   ]
  },
  {
   "cell_type": "code",
   "execution_count": 27,
   "id": "f7ab6168",
   "metadata": {},
   "outputs": [
    {
     "name": "stdout",
     "output_type": "stream",
     "text": [
      "total list os current directory:- ['data', 'data science', 'OS.ipynb']\n"
     ]
    }
   ],
   "source": [
    "total_file=os.listdir()\n",
    "print(\"total list os current directory:-\",total_file)"
   ]
  },
  {
   "cell_type": "code",
   "execution_count": null,
   "id": "9c66525a",
   "metadata": {},
   "outputs": [],
   "source": [
    "# os.remove(\"file_name/file ka path\")### removing file from your dir\n",
    "#print(\"file removed successfully\")"
   ]
  },
  {
   "cell_type": "code",
   "execution_count": 28,
   "id": "745d7e22",
   "metadata": {},
   "outputs": [
    {
     "name": "stdout",
     "output_type": "stream",
     "text": [
      "path exist:- None\n"
     ]
    }
   ],
   "source": [
    "path=r\" c:\\Users\\PARIMAL\\OneDrive\\Desktop\\Data Science Internship\\OS\"\n",
    "path=os.environ.get(path)\n",
    "print(\"path exist:-\",path)"
   ]
  },
  {
   "cell_type": "code",
   "execution_count": 29,
   "id": "29257030",
   "metadata": {},
   "outputs": [
    {
     "data": {
      "text/plain": [
       "1"
      ]
     },
     "execution_count": 29,
     "metadata": {},
     "output_type": "execute_result"
    }
   ],
   "source": [
    "os.system(r\"c:\\Users\\PARIMAL\\OneDrive\")## system command"
   ]
  },
  {
   "cell_type": "code",
   "execution_count": 30,
   "id": "04c91558",
   "metadata": {},
   "outputs": [
    {
     "data": {
      "text/plain": [
       "'c:\\\\Users\\\\PARIMAL\\\\OneDrive\\\\Desktop\\\\Data Science Internship\\\\OS'"
      ]
     },
     "execution_count": 30,
     "metadata": {},
     "output_type": "execute_result"
    }
   ],
   "source": [
    "os.getcwd()"
   ]
  },
  {
   "cell_type": "code",
   "execution_count": 31,
   "id": "6b8f5ee4",
   "metadata": {},
   "outputs": [
    {
     "data": {
      "text/plain": [
       "True"
      ]
     },
     "execution_count": 31,
     "metadata": {},
     "output_type": "execute_result"
    }
   ],
   "source": [
    "#for file\n",
    "os.path.isfile(r\"C:\\Users\\PARIMAL\\OneDrive\\Desktop\\Data Science Internship\\OS\\OS.ipynb\")"
   ]
  },
  {
   "cell_type": "code",
   "execution_count": 32,
   "id": "eef04ead",
   "metadata": {},
   "outputs": [
    {
     "data": {
      "text/plain": [
       "False"
      ]
     },
     "execution_count": 32,
     "metadata": {},
     "output_type": "execute_result"
    }
   ],
   "source": [
    "os.path.isfile(r\"C:\\Users\\PARIMAL\\OneDrive\\Desktop\\Data Science Internship\\OS\\OS1.ipynb\")"
   ]
  },
  {
   "cell_type": "code",
   "execution_count": 34,
   "id": "a93c10c1",
   "metadata": {},
   "outputs": [
    {
     "data": {
      "text/plain": [
       "True"
      ]
     },
     "execution_count": 34,
     "metadata": {},
     "output_type": "execute_result"
    }
   ],
   "source": [
    "#for directory\n",
    "os.path.isdir(r\"C:\\Users\\PARIMAL\\OneDrive\\Desktop\\Data Science Internship\\OS\")"
   ]
  },
  {
   "cell_type": "code",
   "execution_count": 36,
   "id": "aa01164a",
   "metadata": {},
   "outputs": [
    {
     "name": "stdout",
     "output_type": "stream",
     "text": [
      "your complete path:- C:\\Users\\PARIMAL\\OneDrive\\Desktop\\Data Science Internship\\OS\n",
      "your list ['data', 'data science', 'OS.ipynb']\n"
     ]
    }
   ],
   "source": [
    "# if two path ko add karna hai means ki concatete karna hai\n",
    "path1=r\"C:\\Users\\PARIMAL\\OneDrive\"\n",
    "path2=r\"Desktop\\Data Science Internship\\OS\"\n",
    "complete_path=os.path.join(path1,path2)\n",
    "print(\"your complete path:-\",complete_path)\n",
    "print(\"your list\", os.listdir(complete_path))"
   ]
  },
  {
   "cell_type": "code",
   "execution_count": 37,
   "id": "ddf139e1",
   "metadata": {},
   "outputs": [
    {
     "name": "stdout",
     "output_type": "stream",
     "text": [
      "folder size:- 4096\n"
     ]
    }
   ],
   "source": [
    "path=r\"C:\\Users\\PARIMAL\\OneDrive\\Desktop\\Data Science Internship\\OS\"\n",
    "size=os.path.getsize(path)\n",
    "print(\"folder size:-\",size)"
   ]
  },
  {
   "cell_type": "code",
   "execution_count": 38,
   "id": "ea246388",
   "metadata": {},
   "outputs": [],
   "source": [
    "# lambda function\n",
    "# anonymous function\n",
    "# syntax\n",
    "#lambda arguments: expression"
   ]
  },
  {
   "cell_type": "code",
   "execution_count": 39,
   "id": "aa737e0d",
   "metadata": {},
   "outputs": [
    {
     "name": "stdout",
     "output_type": "stream",
     "text": [
      "8\n"
     ]
    }
   ],
   "source": [
    "add=lambda x,y :x+y\n",
    "print(add(5,3))"
   ]
  },
  {
   "cell_type": "code",
   "execution_count": 40,
   "id": "8f0592a0",
   "metadata": {},
   "outputs": [
    {
     "name": "stdout",
     "output_type": "stream",
     "text": [
      "16\n"
     ]
    }
   ],
   "source": [
    "square=lambda x :x**2\n",
    "print(square(4))"
   ]
  },
  {
   "cell_type": "code",
   "execution_count": 41,
   "id": "0d27fcae",
   "metadata": {},
   "outputs": [],
   "source": [
    "#iterator\n",
    "lst = [\"rohit\",\"vishal\",\"parimal\",\"himanshu\",\"kalpana\"]\n",
    "itar=iter(lst)"
   ]
  },
  {
   "cell_type": "code",
   "execution_count": 47,
   "id": "503b2c78",
   "metadata": {},
   "outputs": [
    {
     "ename": "StopIteration",
     "evalue": "",
     "output_type": "error",
     "traceback": [
      "\u001b[31m---------------------------------------------------------------------------\u001b[39m",
      "\u001b[31mStopIteration\u001b[39m                             Traceback (most recent call last)",
      "\u001b[36mCell\u001b[39m\u001b[36m \u001b[39m\u001b[32mIn[47]\u001b[39m\u001b[32m, line 1\u001b[39m\n\u001b[32m----> \u001b[39m\u001b[32m1\u001b[39m \u001b[38;5;28;43mnext\u001b[39;49m\u001b[43m(\u001b[49m\u001b[43mitar\u001b[49m\u001b[43m)\u001b[49m\n",
      "\u001b[31mStopIteration\u001b[39m: "
     ]
    }
   ],
   "source": [
    "next(itar)"
   ]
  }
 ],
 "metadata": {
  "kernelspec": {
   "display_name": "Python 3",
   "language": "python",
   "name": "python3"
  },
  "language_info": {
   "codemirror_mode": {
    "name": "ipython",
    "version": 3
   },
   "file_extension": ".py",
   "mimetype": "text/x-python",
   "name": "python",
   "nbconvert_exporter": "python",
   "pygments_lexer": "ipython3",
   "version": "3.11.5"
  }
 },
 "nbformat": 4,
 "nbformat_minor": 5
}
