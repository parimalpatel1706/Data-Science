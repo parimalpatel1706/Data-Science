{
 "cells": [
  {
   "cell_type": "markdown",
   "id": "b2bd6f66",
   "metadata": {},
   "source": [
    "#### Text Preprocessing"
   ]
  },
  {
   "cell_type": "code",
   "execution_count": 6,
   "id": "48ce8273",
   "metadata": {},
   "outputs": [
    {
     "data": {
      "text/plain": [
       "'hello, weclome to parimal house'"
      ]
     },
     "execution_count": 6,
     "metadata": {},
     "output_type": "execute_result"
    }
   ],
   "source": [
    "### case fold\n",
    "text=\"Hello, Weclome to Parimal House\"\n",
    "text=text.casefold()\n",
    "text"
   ]
  },
  {
   "cell_type": "code",
   "execution_count": null,
   "id": "d4cc25c8",
   "metadata": {},
   "outputs": [],
   "source": []
  },
  {
   "cell_type": "code",
   "execution_count": 7,
   "id": "599595c1",
   "metadata": {},
   "outputs": [],
   "source": [
    "import re"
   ]
  },
  {
   "cell_type": "code",
   "execution_count": 8,
   "id": "f79c5045",
   "metadata": {},
   "outputs": [
    {
     "data": {
      "text/plain": [
       "'hello  my name is  parimal'"
      ]
     },
     "execution_count": 8,
     "metadata": {},
     "output_type": "execute_result"
    }
   ],
   "source": [
    "input = \"hello@ my name is #parimal\"\n",
    "cleaned_text=re.sub(r\"[^a-zA-Z0-9]\",\" \",input)\n",
    "cleaned_text"
   ]
  },
  {
   "cell_type": "code",
   "execution_count": 9,
   "id": "b9c2f493",
   "metadata": {},
   "outputs": [
    {
     "data": {
      "text/plain": [
       "'hello  my name is  parimal9328351749'"
      ]
     },
     "execution_count": 9,
     "metadata": {},
     "output_type": "execute_result"
    }
   ],
   "source": [
    "input = \"hello@ my name is #parimal9328351749\"\n",
    "cleaned_text=re.sub(r\"[^a-zA-Z0-9]\",\" \",input)## remove @ #\n",
    "cleaned_text"
   ]
  },
  {
   "cell_type": "code",
   "execution_count": 10,
   "id": "1cd7e5f0",
   "metadata": {},
   "outputs": [
    {
     "data": {
      "text/plain": [
       "'hello  my name is  parimal          '"
      ]
     },
     "execution_count": 10,
     "metadata": {},
     "output_type": "execute_result"
    }
   ],
   "source": [
    "input = \"hello@ my name is #parimal9328351749\"\n",
    "cleaned_text=re.sub(r\"[^a-zA-Z]\",\" \",input)## remove number\n",
    "cleaned_text"
   ]
  },
  {
   "cell_type": "markdown",
   "id": "1aa8d26f",
   "metadata": {},
   "source": [
    "Handling Contractions"
   ]
  },
  {
   "cell_type": "markdown",
   "id": "de1a118c",
   "metadata": {},
   "source": [
    "I'm =i am\n",
    "I'm going"
   ]
  },
  {
   "cell_type": "code",
   "execution_count": null,
   "id": "bc6ca563",
   "metadata": {},
   "outputs": [],
   "source": [
    "import contractions\n"
   ]
  },
  {
   "cell_type": "code",
   "execution_count": null,
   "id": "854864e6",
   "metadata": {},
   "outputs": [],
   "source": []
  },
  {
   "cell_type": "code",
   "execution_count": null,
   "id": "4c3063f0",
   "metadata": {},
   "outputs": [],
   "source": []
  },
  {
   "cell_type": "code",
   "execution_count": null,
   "id": "43647892",
   "metadata": {},
   "outputs": [],
   "source": [
    "import nltk ## nltk is used for to convert into tokens "
   ]
  },
  {
   "cell_type": "code",
   "execution_count": 13,
   "id": "1f5c2854",
   "metadata": {},
   "outputs": [
    {
     "name": "stderr",
     "output_type": "stream",
     "text": [
      "[nltk_data] Downloading package punkt to\n",
      "[nltk_data]     C:\\Users\\PARIMAL\\AppData\\Roaming\\nltk_data...\n",
      "[nltk_data]   Package punkt is already up-to-date!\n"
     ]
    },
    {
     "data": {
      "text/plain": [
       "True"
      ]
     },
     "execution_count": 13,
     "metadata": {},
     "output_type": "execute_result"
    }
   ],
   "source": [
    "nltk.download('punkt')"
   ]
  },
  {
   "cell_type": "code",
   "execution_count": 15,
   "id": "ccca6b2a",
   "metadata": {},
   "outputs": [
    {
     "name": "stdout",
     "output_type": "stream",
     "text": [
      "['hello', '@', 'my', 'name', 'is', '#', 'parimal']\n",
      "hello my name is parimal\n"
     ]
    }
   ],
   "source": [
    "input = \"hello@ my name is #parimal\"\n",
    "tokens=nltk.word_tokenize(input)\n",
    "print(tokens)\n",
    "\n",
    "clean_text=[token for token in tokens if token.isalnum()]\n",
    "cleaned_text=' '.join(clean_text)\n",
    "print(cleaned_text)"
   ]
  },
  {
   "cell_type": "code",
   "execution_count": null,
   "id": "ed48d454",
   "metadata": {},
   "outputs": [
    {
     "data": {
      "text/plain": [
       "'Ram is https://pypi.org/project/nltk/ shayam'"
      ]
     },
     "execution_count": 18,
     "metadata": {},
     "output_type": "execute_result"
    }
   ],
   "source": [
    "sentence= \"Ram is https://pypi.org/project/nltk/ shayam\" ## remove html tag\n",
    "import re\n",
    "re.sub(r\"<.*?>\",\"\",sentence) # regular expreesion mein ek function hota hai sub"
   ]
  },
  {
   "cell_type": "code",
   "execution_count": null,
   "id": "0fd99baa",
   "metadata": {},
   "outputs": [
    {
     "data": {
      "text/plain": [
       "'Ram is  shayam'"
      ]
     },
     "execution_count": 19,
     "metadata": {},
     "output_type": "execute_result"
    }
   ],
   "source": [
    "sentence= \"Ram is https://pypi.org/project/nltk/ shayam\" ## remove html tag\n",
    "import re\n",
    "re.sub(r'https?://\\S+',\"\",sentence)# this string is used for remove url"
   ]
  },
  {
   "cell_type": "code",
   "execution_count": 20,
   "id": "bc8498f5",
   "metadata": {},
   "outputs": [],
   "source": [
    "chat_word_dict = {\n",
    "    \"u\": \"you\",\n",
    "    \"r\": \"are\",\n",
    "    \"b4\": \"before\",\n",
    "    \"gr8\": \"great\",\n",
    "    \"l8r\": \"later\",\n",
    "    \"idk\": \"I don’t know\",\n",
    "    \"btw\": \"by the way\",\n",
    "    \"imo\": \"in my opinion\",\n",
    "    \"ttyl\": \"talk to you later\",\n",
    "    \"brb\": \"be right back\",\n",
    "    \"wanna\": \"want to\",\n",
    "    \"gonna\": \"going to\",\n",
    "    \"lemme\": \"let me\",\n",
    "    \"dunno\": \"don’t know\",\n",
    "    \"thx\": \"thanks\",\n",
    "    \"pls\": \"please\",\n",
    "    \"ppl\": \"people\",\n",
    "    \"smh\": \"shaking my head\",\n",
    "    \"tbh\": \"to be honest\",\n",
    "    \"omg\": \"oh my god\",\n",
    "    \"lol\": \"laugh out loud\",\n",
    "    \"rofl\": \"rolling on the floor laughing\",\n",
    "    \"afk\": \"away from keyboard\",\n",
    "    \"np\": \"no problem\",\n",
    "    \"gtg\": \"got to go\",\n",
    "    \"jk\": \"just kidding\",\n",
    "    \"hbu\": \"how about you\",\n",
    "    \"ily\": \"I love you\",\n",
    "    \"ttys\": \"talk to you soon\"\n",
    "}"
   ]
  },
  {
   "cell_type": "code",
   "execution_count": 24,
   "id": "6ffadf88",
   "metadata": {},
   "outputs": [],
   "source": [
    "chat_text = \"omg idk u r talking about lol\"\n",
    "def normalize_text(chat_text):\n",
    "    words = chat_text.split()\n",
    "    normalized_words=[chat_word_dict.get(word.lower(),word)for word in words]\n",
    "    return \" \".join(normalized_words)"
   ]
  },
  {
   "cell_type": "code",
   "execution_count": 25,
   "id": "30482a22",
   "metadata": {},
   "outputs": [],
   "source": [
    "normalize_text=normalize_text(chat_text =\"omg idk u r talking about lol\")"
   ]
  },
  {
   "cell_type": "code",
   "execution_count": 26,
   "id": "8071bc75",
   "metadata": {},
   "outputs": [
    {
     "data": {
      "text/plain": [
       "'oh my god I don’t know you are talking about laugh out loud'"
      ]
     },
     "execution_count": 26,
     "metadata": {},
     "output_type": "execute_result"
    }
   ],
   "source": [
    "normalize_text"
   ]
  },
  {
   "cell_type": "code",
   "execution_count": 31,
   "id": "2360ddad",
   "metadata": {},
   "outputs": [
    {
     "name": "stdout",
     "output_type": "stream",
     "text": [
      "ny name is animal\n"
     ]
    }
   ],
   "source": [
    "## spelling mistake corrections\n",
    "from textblob import TextBlob\n",
    "text = \"ny name is parimal\"\n",
    "spelling_correct=TextBlob(text).correct()\n",
    "print(spelling_correct)"
   ]
  },
  {
   "cell_type": "code",
   "execution_count": null,
   "id": "1e7ee737",
   "metadata": {},
   "outputs": [],
   "source": [
    "## Speech to text(stt)\n",
    "# pip install SpeechRecognition\n",
    "# pip install pyaudio"
   ]
  },
  {
   "cell_type": "code",
   "execution_count": null,
   "id": "348fddc1",
   "metadata": {},
   "outputs": [
    {
     "name": "stdout",
     "output_type": "stream",
     "text": [
      "speak now\n",
      "you said: Parimal Parimal Parimal\n"
     ]
    }
   ],
   "source": [
    "import speech_recognition as sr\n",
    "recognizer=sr.Recognizer()# recognizer function\n",
    "with sr.Microphone() as source:\n",
    "    print(\"speak now\")\n",
    "    audio=recognizer.listen(source)\n",
    "try:\n",
    "    text=recognizer.recognize_google(audio)\n",
    "    print(\"you said:\",text)\n",
    "except:\n",
    "    print(\"Sorry could not recognize your voice\")"
   ]
  },
  {
   "cell_type": "code",
   "execution_count": null,
   "id": "1336ea4b",
   "metadata": {},
   "outputs": [],
   "source": [
    "##text to speech\n",
    "# pip install gtts"
   ]
  },
  {
   "cell_type": "code",
   "execution_count": 35,
   "id": "70ac3c42",
   "metadata": {},
   "outputs": [
    {
     "data": {
      "text/plain": [
       "0"
      ]
     },
     "execution_count": 35,
     "metadata": {},
     "output_type": "execute_result"
    }
   ],
   "source": [
    "from gtts import gTTS\n",
    "import os\n",
    "text = \"Hello welcome to Parimal Empire\"\n",
    "tts=gTTS(text=text, lang=\"en\")\n",
    "tts.save(\"welcome.mp3\")\n",
    "os.system(\"welcome.mp3\")"
   ]
  }
 ],
 "metadata": {
  "kernelspec": {
   "display_name": "Python 3",
   "language": "python",
   "name": "python3"
  },
  "language_info": {
   "codemirror_mode": {
    "name": "ipython",
    "version": 3
   },
   "file_extension": ".py",
   "mimetype": "text/x-python",
   "name": "python",
   "nbconvert_exporter": "python",
   "pygments_lexer": "ipython3",
   "version": "3.11.5"
  }
 },
 "nbformat": 4,
 "nbformat_minor": 5
}
