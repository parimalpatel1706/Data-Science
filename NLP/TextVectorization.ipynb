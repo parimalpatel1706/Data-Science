{
 "cells": [
  {
   "cell_type": "markdown",
   "id": "5036e5ee",
   "metadata": {},
   "source": [
    "### Text Vectorization :-> word convert into number"
   ]
  },
  {
   "cell_type": "markdown",
   "id": "064a14dd",
   "metadata": {},
   "source": [
    "### BOW>>>>>>>>>>>>>>>>>>>> Bag Of Words"
   ]
  },
  {
   "cell_type": "code",
   "execution_count": 2,
   "id": "15511edc",
   "metadata": {},
   "outputs": [],
   "source": [
    "import pandas as pd\n",
    "import numpy as np"
   ]
  },
  {
   "cell_type": "code",
   "execution_count": 3,
   "id": "6933eff5",
   "metadata": {},
   "outputs": [],
   "source": [
    "text={\"text\":[\"People watch Aiyug\",\"Aiyug watch Aiyug\",\"People write comment\", \"Aiyug write comment\"],\"output\":[1,1,0,0]}"
   ]
  },
  {
   "cell_type": "code",
   "execution_count": 4,
   "id": "238a8eff",
   "metadata": {},
   "outputs": [],
   "source": [
    "text=pd.DataFrame(text)"
   ]
  },
  {
   "cell_type": "code",
   "execution_count": 5,
   "id": "211a83e8",
   "metadata": {},
   "outputs": [
    {
     "data": {
      "text/html": [
       "<div>\n",
       "<style scoped>\n",
       "    .dataframe tbody tr th:only-of-type {\n",
       "        vertical-align: middle;\n",
       "    }\n",
       "\n",
       "    .dataframe tbody tr th {\n",
       "        vertical-align: top;\n",
       "    }\n",
       "\n",
       "    .dataframe thead th {\n",
       "        text-align: right;\n",
       "    }\n",
       "</style>\n",
       "<table border=\"1\" class=\"dataframe\">\n",
       "  <thead>\n",
       "    <tr style=\"text-align: right;\">\n",
       "      <th></th>\n",
       "      <th>text</th>\n",
       "      <th>output</th>\n",
       "    </tr>\n",
       "  </thead>\n",
       "  <tbody>\n",
       "    <tr>\n",
       "      <th>0</th>\n",
       "      <td>People watch Aiyug</td>\n",
       "      <td>1</td>\n",
       "    </tr>\n",
       "    <tr>\n",
       "      <th>1</th>\n",
       "      <td>Aiyug watch Aiyug</td>\n",
       "      <td>1</td>\n",
       "    </tr>\n",
       "    <tr>\n",
       "      <th>2</th>\n",
       "      <td>People write comment</td>\n",
       "      <td>0</td>\n",
       "    </tr>\n",
       "    <tr>\n",
       "      <th>3</th>\n",
       "      <td>Aiyug write comment</td>\n",
       "      <td>0</td>\n",
       "    </tr>\n",
       "  </tbody>\n",
       "</table>\n",
       "</div>"
      ],
      "text/plain": [
       "                   text  output\n",
       "0    People watch Aiyug       1\n",
       "1     Aiyug watch Aiyug       1\n",
       "2  People write comment       0\n",
       "3   Aiyug write comment       0"
      ]
     },
     "execution_count": 5,
     "metadata": {},
     "output_type": "execute_result"
    }
   ],
   "source": [
    "text"
   ]
  },
  {
   "cell_type": "code",
   "execution_count": 6,
   "id": "da7f0d21",
   "metadata": {},
   "outputs": [],
   "source": [
    "from sklearn.feature_extraction.text import CountVectorizer"
   ]
  },
  {
   "cell_type": "code",
   "execution_count": 7,
   "id": "0ec367f7",
   "metadata": {},
   "outputs": [],
   "source": [
    "cv=CountVectorizer(lowercase=True,stop_words='english',binary=True)"
   ]
  },
  {
   "cell_type": "code",
   "execution_count": null,
   "id": "60571f61",
   "metadata": {},
   "outputs": [],
   "source": [
    "bow=cv.fit_transform(text['text'])# ek line mein kaam karta hai: yeh text data ko numerical format mein convert karta hai by counting word occurrences using Bag of Words model."
   ]
  },
  {
   "cell_type": "code",
   "execution_count": 10,
   "id": "ef48ae65",
   "metadata": {},
   "outputs": [
    {
     "data": {
      "text/plain": [
       "{'people': 2, 'watch': 3, 'aiyug': 0, 'write': 4, 'comment': 1}"
      ]
     },
     "execution_count": 10,
     "metadata": {},
     "output_type": "execute_result"
    }
   ],
   "source": [
    "cv.vocabulary_"
   ]
  },
  {
   "cell_type": "code",
   "execution_count": 11,
   "id": "83d6963e",
   "metadata": {},
   "outputs": [
    {
     "name": "stdout",
     "output_type": "stream",
     "text": [
      "[[1 0 1 1 0]]\n",
      "[[1 0 0 1 0]]\n",
      "[[0 1 1 0 1]]\n",
      "[[1 1 0 0 1]]\n"
     ]
    }
   ],
   "source": [
    "print(bow[0].toarray())\n",
    "print(bow[1].toarray())\n",
    "print(bow[2].toarray())\n",
    "print(bow[3].toarray())"
   ]
  },
  {
   "cell_type": "code",
   "execution_count": 12,
   "id": "aed7bee6",
   "metadata": {},
   "outputs": [
    {
     "data": {
      "text/plain": [
       "array([[0, 1, 0, 1, 0]])"
      ]
     },
     "execution_count": 12,
     "metadata": {},
     "output_type": "execute_result"
    }
   ],
   "source": [
    "cv.transform([\"hello comment my name watch is parimal\"]).toarray()"
   ]
  },
  {
   "cell_type": "markdown",
   "id": "b1b3d58b",
   "metadata": {},
   "source": [
    "### N grams"
   ]
  },
  {
   "cell_type": "code",
   "execution_count": 13,
   "id": "159a3295",
   "metadata": {},
   "outputs": [
    {
     "name": "stdout",
     "output_type": "stream",
     "text": [
      "trigrams:- [('I', 'love', 'natural'), ('love', 'natural', 'language'), ('natural', 'language', 'processing')]\n"
     ]
    }
   ],
   "source": [
    "from nltk.util import ngrams\n",
    "from nltk.tokenize import word_tokenize\n",
    "\n",
    "text=\"I love natural language processing\"\n",
    "tokens=word_tokenize(text)\n",
    "n=3\n",
    "\n",
    "trigrams=list(ngrams(tokens,n))\n",
    "print(\"trigrams:-\",trigrams)"
   ]
  },
  {
   "cell_type": "markdown",
   "id": "4051f44b",
   "metadata": {},
   "source": [
    "### TF-IDF"
   ]
  },
  {
   "cell_type": "code",
   "execution_count": null,
   "id": "2e8874c2",
   "metadata": {},
   "outputs": [
    {
     "name": "stdout",
     "output_type": "stream",
     "text": [
      "document:- 1\n",
      "language:0.5465\n",
      "love:0.3227\n",
      "natural:0.5465\n",
      "processing:0.5465\n",
      "document:- 2\n",
      "leraning:0.6525\n",
      "love:0.3854\n",
      "machine:0.6525\n",
      "document:- 3\n",
      "deep:0.6525\n",
      "learning:0.6525\n",
      "love:0.3854\n"
     ]
    }
   ],
   "source": [
    "from sklearn.feature_extraction.text import TfidfVectorizer #ek aisa tool hai jo text data ko numerical values mein convert karta hai by calculating TF-IDF (Term Frequency–Inverse Document Frequency) — jo batata hai ki ek word kitna important hai kisi document mein poore corpus ke comparison mein.\n",
    "\n",
    "text=[\"i love natural language processing\", \" i love machine leraning\", \"i love deep learning\"]\n",
    "vectorizer=TfidfVectorizer()\n",
    "tfidf_matrix=vectorizer.fit_transform(text)\n",
    "#print(tfidf_matrix.toarrat())\n",
    "feature_names=vectorizer.get_feature_names_out()\n",
    "for doc_index,doc in enumerate(tfidf_matrix.toarray()):#Python ka built-in function hai jo kisi iterable (jaise list) ko iterate karte waqt index ke saath uska item bhi deta hai.\n",
    "    print(\"document:-\",doc_index+1)\n",
    "    for word_index, score in enumerate(doc):\n",
    "        if score>0:\n",
    "            print(f\"{feature_names[word_index]}:{score:.4f}\")"
   ]
  },
  {
   "cell_type": "markdown",
   "id": "958be568",
   "metadata": {},
   "source": [
    "### Part of Speech Tagging"
   ]
  },
  {
   "cell_type": "code",
   "execution_count": null,
   "id": "64366eac",
   "metadata": {},
   "outputs": [],
   "source": [
    "# install this:-python -m spacy download en_core_web_sm\n",
    "import spacy"
   ]
  },
  {
   "cell_type": "code",
   "execution_count": 17,
   "id": "a48bea0e",
   "metadata": {},
   "outputs": [],
   "source": [
    "pos=spacy.load('en_core_web_sm')"
   ]
  },
  {
   "cell_type": "code",
   "execution_count": 18,
   "id": "978c7a09",
   "metadata": {},
   "outputs": [],
   "source": [
    "doc=pos(\"i love natural language processing\")"
   ]
  },
  {
   "cell_type": "code",
   "execution_count": 19,
   "id": "19b1e2b0",
   "metadata": {},
   "outputs": [
    {
     "data": {
      "text/plain": [
       "'i love natural language processing'"
      ]
     },
     "execution_count": 19,
     "metadata": {},
     "output_type": "execute_result"
    }
   ],
   "source": [
    "doc.text"
   ]
  },
  {
   "cell_type": "code",
   "execution_count": 20,
   "id": "f0fab7fc",
   "metadata": {},
   "outputs": [
    {
     "data": {
      "text/plain": [
       "'NOUN'"
      ]
     },
     "execution_count": 20,
     "metadata": {},
     "output_type": "execute_result"
    }
   ],
   "source": [
    "doc[3].pos_"
   ]
  },
  {
   "cell_type": "code",
   "execution_count": null,
   "id": "282ea13c",
   "metadata": {},
   "outputs": [
    {
     "name": "stdout",
     "output_type": "stream",
     "text": [
      "love\n"
     ]
    }
   ],
   "source": [
    "from nltk.stem import PorterStemmer #k stemming algorithm hai jo words ko unke root form (stem) me convert karta hai. Use hota hai: NLP (Natural Language Processing) me jab aapko similar meaning wale words ko same treat karna hota hai.\n",
    "\n",
    "\n",
    "st=PorterStemmer()\n",
    "print(st.stem(\"loving\"))"
   ]
  },
  {
   "cell_type": "code",
   "execution_count": 22,
   "id": "3daf1c89",
   "metadata": {},
   "outputs": [
    {
     "name": "stdout",
     "output_type": "stream",
     "text": [
      "love\n"
     ]
    },
    {
     "data": {
      "text/plain": [
       "'love'"
      ]
     },
     "execution_count": 22,
     "metadata": {},
     "output_type": "execute_result"
    }
   ],
   "source": [
    "print(st.stem(\"loving\"))\n",
    "st.stem(\"loving\")"
   ]
  }
 ],
 "metadata": {
  "kernelspec": {
   "display_name": "Python 3",
   "language": "python",
   "name": "python3"
  },
  "language_info": {
   "codemirror_mode": {
    "name": "ipython",
    "version": 3
   },
   "file_extension": ".py",
   "mimetype": "text/x-python",
   "name": "python",
   "nbconvert_exporter": "python",
   "pygments_lexer": "ipython3",
   "version": "3.11.5"
  }
 },
 "nbformat": 4,
 "nbformat_minor": 5
}
