{
 "cells": [
  {
   "cell_type": "markdown",
   "id": "7fa40e70",
   "metadata": {},
   "source": [
    "#### Error Handling or also know as exception handling"
   ]
  },
  {
   "cell_type": "code",
   "execution_count": 1,
   "id": "6b9dff74",
   "metadata": {},
   "outputs": [],
   "source": [
    "try:\n",
    "    pass\n",
    "except:\n",
    "    pass\n",
    "else:\n",
    "    pass\n",
    "finally:\n",
    "    pass"
   ]
  },
  {
   "cell_type": "code",
   "execution_count": 2,
   "id": "13b7b94c",
   "metadata": {},
   "outputs": [],
   "source": [
    "try:\n",
    "    #main code\n",
    "    pass\n",
    "except:\n",
    "    #excetion code\n",
    "    pass\n",
    "else:\n",
    "    #else code\n",
    "    #multiple code run karna ke liye else use karte ha\n",
    "    pass\n",
    "finally:\n",
    "    #finally code\n",
    "    pass"
   ]
  },
  {
   "cell_type": "code",
   "execution_count": 3,
   "id": "4aef3cf7",
   "metadata": {},
   "outputs": [
    {
     "name": "stdout",
     "output_type": "stream",
     "text": [
      "divide by zero error\n"
     ]
    }
   ],
   "source": [
    "try:\n",
    "    x=10/0\n",
    "except ZeroDivisionError as e:\n",
    "    print(\"divide by zero error\")"
   ]
  },
  {
   "cell_type": "code",
   "execution_count": 5,
   "id": "aac27929",
   "metadata": {},
   "outputs": [
    {
     "name": "stdout",
     "output_type": "stream",
     "text": [
      "error division by zero\n"
     ]
    }
   ],
   "source": [
    "try:\n",
    "    x =10/0\n",
    "except Exception as e:\n",
    "    print(\"error\",e)"
   ]
  },
  {
   "cell_type": "code",
   "execution_count": 1,
   "id": "4dfbcfb6",
   "metadata": {},
   "outputs": [
    {
     "name": "stdout",
     "output_type": "stream",
     "text": [
      "result 1.0\n",
      "this is block always run\n"
     ]
    }
   ],
   "source": [
    "try:\n",
    "    num=int(input(\"enter your first number\"))\n",
    "    result=10/num\n",
    "except ZeroDivisionError:\n",
    "    print(\"can not divide by 0\")\n",
    "except ValueError:\n",
    "    print(\"invalid input please enter a number\")\n",
    "else:\n",
    "    print(\"result\",result)\n",
    "finally:\n",
    "    print(\"this is block always run\")"
   ]
  },
  {
   "cell_type": "code",
   "execution_count": 2,
   "id": "8fe41698",
   "metadata": {},
   "outputs": [
    {
     "name": "stdout",
     "output_type": "stream",
     "text": [
      "error division by zero\n",
      "this is block always run\n"
     ]
    }
   ],
   "source": [
    "try:\n",
    "    num=int(input(\"enter your first number\"))\n",
    "    result=10/num\n",
    "except(ValueError,ZeroDivisionError) as e:\n",
    "    print(\"error\",e)\n",
    "else:\n",
    "    print(\"result\",result)\n",
    "finally:\n",
    "    print(\"this is block always run\")"
   ]
  },
  {
   "cell_type": "code",
   "execution_count": 4,
   "id": "e6a924ee",
   "metadata": {},
   "outputs": [
    {
     "name": "stdout",
     "output_type": "stream",
     "text": [
      "age must be atleast 18\n"
     ]
    }
   ],
   "source": [
    "# raising custom Exception\n",
    "def check_age(age):\n",
    "    if age<18:\n",
    "        raise ValueError(\"age must be atleast 18\")\n",
    "    else:\n",
    "        print(\"you are eligible\")\n",
    "try:\n",
    "        check_age(15)\n",
    "except ValueError as e:\n",
    "        print(e)\n",
    "        "
   ]
  }
 ],
 "metadata": {
  "kernelspec": {
   "display_name": "Python 3",
   "language": "python",
   "name": "python3"
  },
  "language_info": {
   "codemirror_mode": {
    "name": "ipython",
    "version": 3
   },
   "file_extension": ".py",
   "mimetype": "text/x-python",
   "name": "python",
   "nbconvert_exporter": "python",
   "pygments_lexer": "ipython3",
   "version": "3.11.5"
  }
 },
 "nbformat": 4,
 "nbformat_minor": 5
}
