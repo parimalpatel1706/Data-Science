{
 "cells": [
  {
   "cell_type": "code",
   "execution_count": null,
   "id": "1921cf3f",
   "metadata": {},
   "outputs": [],
   "source": [
    "# polymorphism>>>>> many forms\n",
    "# inheritance\n",
    "# encapsulation\n",
    "# abstraction >>>> python abstract class... 3 dot se hidden hote hai"
   ]
  },
  {
   "cell_type": "code",
   "execution_count": 1,
   "id": "e95413fe",
   "metadata": {},
   "outputs": [],
   "source": [
    "class Classname:\n",
    "    ## code here\n",
    "    pass\n",
    "    # classname is the class name\n",
    "    # class is keyword\n",
    "    # pass as a placeholder"
   ]
  },
  {
   "cell_type": "code",
   "execution_count": 4,
   "id": "79a0dbd6",
   "metadata": {},
   "outputs": [
    {
     "name": "stdout",
     "output_type": "stream",
     "text": [
      "Parimal\n"
     ]
    }
   ],
   "source": [
    "class Student:  # class ka naam Student hai, hamesha capital se start karo (good practice)\n",
    "    name = \"Parimal\"\n",
    "    age = 22\n",
    "\n",
    "# class ke bahar object banao\n",
    "st_obj = Student()  # Student class ka object banaya\n",
    "print(st_obj.name)  # object ke through name print kiya\n"
   ]
  },
  {
   "cell_type": "code",
   "execution_count": 9,
   "id": "8a5c86f5",
   "metadata": {},
   "outputs": [],
   "source": [
    "class Student:\n",
    "    def set_details(self,name,age,grade):\n",
    "      self.name=name\n",
    "      self.age=age\n",
    "      self.grade=grade\n",
    "    def display(self):\n",
    "        print(f\"hello my name is{self.name} and my age is{self.age} and my grade is{self.grade}\")\n",
    "st_obj=Student()\n",
    "st_obj.set_details(\"parimal\",20,\"A\")"
   ]
  },
  {
   "cell_type": "code",
   "execution_count": 10,
   "id": "1bbcfeb0",
   "metadata": {},
   "outputs": [
    {
     "name": "stdout",
     "output_type": "stream",
     "text": [
      "hello my name isparimal and my age is20 and my grade isA\n"
     ]
    }
   ],
   "source": [
    "st_obj.display()"
   ]
  },
  {
   "cell_type": "markdown",
   "id": "ae0240b7",
   "metadata": {},
   "source": [
    "Inhertiance\n",
    "* types of inheritance\n",
    "1. single\n",
    "2. multiple\n",
    "3. multilevel\n",
    "4. hybrid\n",
    "5. Hierarchical"
   ]
  },
  {
   "cell_type": "code",
   "execution_count": null,
   "id": "809c83b0",
   "metadata": {},
   "outputs": [],
   "source": [
    "#1. single\n",
    "class Parent:\n",
    "    "
   ]
  },
  {
   "cell_type": "code",
   "execution_count": 11,
   "id": "1c560a4b",
   "metadata": {},
   "outputs": [],
   "source": [
    "#2. multiple\n",
    "class Parent:\n",
    "    father_name = \"jitesh patel\"\n",
    "class Uncle:\n",
    "    uncle_name = \"harshad patel\"\n",
    "class Child(Parent,Uncle):\n",
    "    child_name = \"parimal patel\"\n",
    "obj=Child()\n",
    "    "
   ]
  },
  {
   "cell_type": "code",
   "execution_count": 14,
   "id": "316867c3",
   "metadata": {},
   "outputs": [
    {
     "data": {
      "text/plain": [
       "'harshad patel'"
      ]
     },
     "execution_count": 14,
     "metadata": {},
     "output_type": "execute_result"
    }
   ],
   "source": [
    "obj.father_name\n",
    "obj.uncle_name"
   ]
  },
  {
   "cell_type": "code",
   "execution_count": 17,
   "id": "224bf1f8",
   "metadata": {},
   "outputs": [
    {
     "data": {
      "text/plain": [
       "'jitesh'"
      ]
     },
     "execution_count": 17,
     "metadata": {},
     "output_type": "execute_result"
    }
   ],
   "source": [
    "#3. multilevel\n",
    "class Grandfather:\n",
    "    grandfather_name=\"krsihna\"\n",
    "class Parent(Grandfather):\n",
    "    father=\"jitesh\"\n",
    "class Child(Parent):\n",
    "    name=\"parimal\"\n",
    "obj = Child()\n",
    "obj.grandfather_name\n",
    "obj.father"
   ]
  },
  {
   "cell_type": "code",
   "execution_count": null,
   "id": "c02b29cd",
   "metadata": {},
   "outputs": [],
   "source": [
    "#4. hybrid\n",
    "#5. Hierarchical"
   ]
  },
  {
   "cell_type": "markdown",
   "id": "e7b6f741",
   "metadata": {},
   "source": [
    "Polymorphism"
   ]
  },
  {
   "cell_type": "code",
   "execution_count": null,
   "id": "cd2d3afd",
   "metadata": {},
   "outputs": [],
   "source": [
    "lst"
   ]
  },
  {
   "cell_type": "code",
   "execution_count": null,
   "id": "ac612e71",
   "metadata": {},
   "outputs": [],
   "source": [
    "# overloading function\n",
    "class Student:\n",
    "    def student_details(self):\n",
    "        print(\"hello my name is parimal\")\n",
    "    def student_details(self,name):"
   ]
  },
  {
   "cell_type": "markdown",
   "id": "cf6643b1",
   "metadata": {},
   "source": [
    "Abstraction"
   ]
  },
  {
   "cell_type": "code",
   "execution_count": null,
   "id": "2d6dda4f",
   "metadata": {},
   "outputs": [],
   "source": [
    "print()"
   ]
  },
  {
   "cell_type": "code",
   "execution_count": 23,
   "id": "e4bf9657",
   "metadata": {},
   "outputs": [
    {
     "name": "stdout",
     "output_type": "stream",
     "text": [
      "parimal\n"
     ]
    }
   ],
   "source": [
    "#constructor\n",
    "class Student:\n",
    "    def __init__(self,name,age):\n",
    "        self.name=name#instancevarialbes\n",
    "        self.age=age\n",
    "obj=Student(name=\"parimal\", age=20)\n",
    "obj.name\n",
    "print(obj.name)\n",
    "    \n",
    "    "
   ]
  },
  {
   "cell_type": "markdown",
   "id": "359e60f1",
   "metadata": {},
   "source": [
    "Encapsulation"
   ]
  },
  {
   "cell_type": "code",
   "execution_count": 28,
   "id": "6ed1aff6",
   "metadata": {},
   "outputs": [
    {
     "data": {
      "text/plain": [
       "'parimal'"
      ]
     },
     "execution_count": 28,
     "metadata": {},
     "output_type": "execute_result"
    }
   ],
   "source": [
    "class Student:\n",
    "    def __init__(self):\n",
    "        self.name=\"parimal\"#public\n",
    "        self._age=22 # prtotected\n",
    "        self.__marks=90\n",
    "    def display(self):\n",
    "        print(f\"heelo my name is {self.name} and my age is {self.age} and my marks is{self.marks}\")\n",
    "obj=Student()\n",
    "obj.name"
   ]
  },
  {
   "cell_type": "code",
   "execution_count": 27,
   "id": "6e70b6bd",
   "metadata": {},
   "outputs": [
    {
     "data": {
      "text/plain": [
       "90"
      ]
     },
     "execution_count": 27,
     "metadata": {},
     "output_type": "execute_result"
    }
   ],
   "source": [
    "obj._Student__marks # to access private elements"
   ]
  }
 ],
 "metadata": {
  "kernelspec": {
   "display_name": "Python 3",
   "language": "python",
   "name": "python3"
  },
  "language_info": {
   "codemirror_mode": {
    "name": "ipython",
    "version": 3
   },
   "file_extension": ".py",
   "mimetype": "text/x-python",
   "name": "python",
   "nbconvert_exporter": "python",
   "pygments_lexer": "ipython3",
   "version": "3.11.5"
  }
 },
 "nbformat": 4,
 "nbformat_minor": 5
}
