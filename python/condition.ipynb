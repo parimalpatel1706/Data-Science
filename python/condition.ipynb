{
 "cells": [
  {
   "cell_type": "markdown",
   "id": "cea8c4d8",
   "metadata": {},
   "source": [
    "Conditional Statements\n",
    "* if\n",
    "* else\n",
    "* elif\n"
   ]
  },
  {
   "cell_type": "code",
   "execution_count": 1,
   "id": "a8abf3d6",
   "metadata": {},
   "outputs": [
    {
     "name": "stdout",
     "output_type": "stream",
     "text": [
      "x is greater than 5\n"
     ]
    }
   ],
   "source": [
    "x =10\n",
    "if x>5:\n",
    "    print(\"x is greater than 5\")"
   ]
  },
  {
   "cell_type": "markdown",
   "id": "b227de80",
   "metadata": {},
   "source": [
    "if-else Statement"
   ]
  },
  {
   "cell_type": "code",
   "execution_count": 2,
   "id": "4543bb02",
   "metadata": {},
   "outputs": [
    {
     "name": "stdout",
     "output_type": "stream",
     "text": [
      "x is not greater than 5\n"
     ]
    }
   ],
   "source": [
    "x = 3\n",
    "if x>5:\n",
    "    print(\"x is greater than 5\")\n",
    "else:\n",
    "    print(\"x is not greater than 5\")"
   ]
  },
  {
   "cell_type": "markdown",
   "id": "43a3c69c",
   "metadata": {},
   "source": [
    "if-elif-else Statement"
   ]
  },
  {
   "cell_type": "code",
   "execution_count": 3,
   "id": "c084e1c0",
   "metadata": {},
   "outputs": [
    {
     "name": "stdout",
     "output_type": "stream",
     "text": [
      "x is equal 5\n"
     ]
    }
   ],
   "source": [
    "x = 5\n",
    "if x>5:\n",
    "    print(\"x is greater than 5\")\n",
    "elif x==5:\n",
    "    print(\"x is equal 5\")\n",
    "else:\n",
    "    print(\"x is not greater than 5\")\n",
    "        "
   ]
  },
  {
   "cell_type": "markdown",
   "id": "d23318eb",
   "metadata": {},
   "source": [
    "Nested if statement"
   ]
  },
  {
   "cell_type": "code",
   "execution_count": 4,
   "id": "dcd6530b",
   "metadata": {},
   "outputs": [
    {
     "name": "stdout",
     "output_type": "stream",
     "text": [
      "x is between 0 and 20 \n"
     ]
    }
   ],
   "source": [
    "x = 10\n",
    "if x>0:\n",
    "    if x<20:\n",
    "        print(\"x is between 0 and 20 \")"
   ]
  },
  {
   "cell_type": "markdown",
   "id": "a1ce8ade",
   "metadata": {},
   "source": [
    "short-hand if(one line)"
   ]
  },
  {
   "cell_type": "code",
   "execution_count": 5,
   "id": "c143b8ec",
   "metadata": {},
   "outputs": [
    {
     "name": "stdout",
     "output_type": "stream",
     "text": [
      "x is greater than 5\n"
     ]
    }
   ],
   "source": [
    "x =10\n",
    "if (x>5):print(\"x is greater than 5\")"
   ]
  },
  {
   "cell_type": "code",
   "execution_count": 7,
   "id": "4fadcc42",
   "metadata": {},
   "outputs": [
    {
     "name": "stdout",
     "output_type": "stream",
     "text": [
      "EVEN\n"
     ]
    }
   ],
   "source": [
    "x = int(input(\"enter your number\"))\n",
    "result =\"EVEN\" if x%2==0 else \"Odd\"\n",
    "print(result)"
   ]
  },
  {
   "cell_type": "code",
   "execution_count": null,
   "id": "ee1323bb",
   "metadata": {},
   "outputs": [],
   "source": [
    "#task 1\n",
    "marks = int(input(\"enter your marks:-\"))\n",
    "if marks>=90 and marks<=100:\n",
    "    print(\"Grade A\")\n",
    "elif marks>=80 and marks<=89:\n",
    "    print(\"Grade B\")\n",
    "elif marks>=70 and marks<=79:\n",
    "    print(\"Grade C\")\n",
    "else:\n",
    "    print(\"fail\")\n",
    "    \n",
    "#task 2\n",
    "a = int(input(\"enter the value of a:-\"))\n",
    "b = int(input(\"enter the value of b:-\"))\n",
    "c = int(input(\"enter the value of c:-\"))\n",
    "if a>b and a>c:\n",
    "    print(\"a is greater\")\n",
    "elif b>a and b>c:\n",
    "    print(\"b is greater\")\n",
    "else:\n",
    "    print(\"c is greater\")\n"
   ]
  }
 ],
 "metadata": {
  "kernelspec": {
   "display_name": "Python 3",
   "language": "python",
   "name": "python3"
  },
  "language_info": {
   "codemirror_mode": {
    "name": "ipython",
    "version": 3
   },
   "file_extension": ".py",
   "mimetype": "text/x-python",
   "name": "python",
   "nbconvert_exporter": "python",
   "pygments_lexer": "ipython3",
   "version": "3.11.5"
  }
 },
 "nbformat": 4,
 "nbformat_minor": 5
}
