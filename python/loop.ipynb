{
 "cells": [
  {
   "cell_type": "markdown",
   "id": "41614ca9",
   "metadata": {},
   "source": [
    "FOR LOOP\n"
   ]
  },
  {
   "cell_type": "code",
   "execution_count": 1,
   "id": "02323c55",
   "metadata": {},
   "outputs": [
    {
     "name": "stdout",
     "output_type": "stream",
     "text": [
      "1\n",
      "2\n",
      "3\n",
      "4\n",
      "5\n"
     ]
    }
   ],
   "source": [
    "lst = [1,2,3,4,5]\n",
    "for x in lst:\n",
    "    print(x)"
   ]
  },
  {
   "cell_type": "code",
   "execution_count": 2,
   "id": "bf8f1664",
   "metadata": {},
   "outputs": [
    {
     "name": "stdout",
     "output_type": "stream",
     "text": [
      "p\n",
      "a\n",
      "r\n",
      "i\n",
      "m\n",
      "a\n",
      "l\n"
     ]
    }
   ],
   "source": [
    "name = \"parimal\"\n",
    "for x in name:\n",
    "    print(x)"
   ]
  },
  {
   "cell_type": "code",
   "execution_count": 3,
   "id": "118cc89e",
   "metadata": {},
   "outputs": [
    {
     "name": "stdout",
     "output_type": "stream",
     "text": [
      "h\n",
      "e\n",
      "l\n",
      "l\n",
      "o\n"
     ]
    }
   ],
   "source": [
    "for item in \"hello\":\n",
    "    print(item)"
   ]
  },
  {
   "cell_type": "markdown",
   "id": "70d80007",
   "metadata": {},
   "source": [
    "range function"
   ]
  },
  {
   "cell_type": "code",
   "execution_count": 4,
   "id": "e9371f6c",
   "metadata": {},
   "outputs": [
    {
     "name": "stdout",
     "output_type": "stream",
     "text": [
      "0\n",
      "1\n",
      "2\n",
      "3\n",
      "4\n"
     ]
    }
   ],
   "source": [
    "for x in range(5):\n",
    "    print(x)"
   ]
  },
  {
   "cell_type": "code",
   "execution_count": 5,
   "id": "f63e3409",
   "metadata": {},
   "outputs": [
    {
     "name": "stdout",
     "output_type": "stream",
     "text": [
      "2\n",
      "4\n",
      "6\n",
      "8\n",
      "10\n",
      "12\n",
      "14\n",
      "16\n",
      "18\n",
      "20\n"
     ]
    }
   ],
   "source": [
    "for x in range(2,22,2): ## 2 is startinf 22 is ending and 2 gap\n",
    "    print(x)"
   ]
  },
  {
   "cell_type": "code",
   "execution_count": 9,
   "id": "f3cdcb41",
   "metadata": {},
   "outputs": [
    {
     "name": "stdout",
     "output_type": "stream",
     "text": [
      "('name', 'parimal')\n",
      "('age', 24)\n",
      "('phone', 1234567)\n"
     ]
    }
   ],
   "source": [
    "dct = {\n",
    "    \"name\" : \"parimal\",\n",
    "    \"age\" :24,\n",
    "    \"phone\":1234567\n",
    "}\n",
    "for item in dct.items():\n",
    "    print(item)"
   ]
  },
  {
   "cell_type": "code",
   "execution_count": 10,
   "id": "6e674b3c",
   "metadata": {},
   "outputs": [
    {
     "name": "stdout",
     "output_type": "stream",
     "text": [
      "1\n",
      "2\n",
      "3\n",
      "4\n",
      "5\n",
      "6\n",
      "7\n",
      "8\n",
      "9\n",
      "10\n",
      "11\n",
      "12\n",
      "13\n",
      "14\n",
      "15\n",
      "16\n",
      "17\n",
      "18\n",
      "19\n",
      "20\n",
      "21\n",
      "22\n",
      "23\n",
      "24\n",
      "25\n",
      "26\n",
      "27\n",
      "28\n",
      "29\n",
      "30\n",
      "31\n",
      "32\n",
      "33\n",
      "34\n",
      "35\n",
      "36\n",
      "37\n",
      "38\n",
      "39\n",
      "40\n",
      "41\n",
      "42\n",
      "43\n",
      "44\n",
      "45\n",
      "46\n",
      "47\n",
      "48\n",
      "49\n",
      "50\n"
     ]
    }
   ],
   "source": [
    "for i in range(1,51):\n",
    "    print(i)"
   ]
  },
  {
   "cell_type": "markdown",
   "id": "fff80568",
   "metadata": {},
   "source": [
    "count vowel in string\n"
   ]
  },
  {
   "cell_type": "code",
   "execution_count": 11,
   "id": "6d42e957",
   "metadata": {},
   "outputs": [
    {
     "name": "stdout",
     "output_type": "stream",
     "text": [
      "Vowels:  3\n"
     ]
    }
   ],
   "source": [
    "name = \"parimal\"\n",
    "cnt = 0\n",
    "for i in name:\n",
    "    if (i == 'a' or i == 'e' or i == 'i' or i == 'o' or i == 'u'):\n",
    "        cnt += 1\n",
    "print(\"Vowels: \", cnt)"
   ]
  },
  {
   "cell_type": "markdown",
   "id": "8aa1711f",
   "metadata": {},
   "source": [
    "WHILE LOOP"
   ]
  },
  {
   "cell_type": "markdown",
   "id": "0528ef9b",
   "metadata": {},
   "source": [
    "while condition:\n",
    "# code block"
   ]
  },
  {
   "cell_type": "code",
   "execution_count": null,
   "id": "278fd6ed",
   "metadata": {},
   "outputs": [
    {
     "name": "stdout",
     "output_type": "stream",
     "text": [
      "1\n",
      "2\n",
      "3\n",
      "4\n",
      "5\n"
     ]
    }
   ],
   "source": [
    "x = 1\n",
    "while x <=5:\n",
    "    print(x)\n",
    "    x+=1"
   ]
  },
  {
   "cell_type": "markdown",
   "id": "62042487",
   "metadata": {},
   "source": [
    "Break Statement\n",
    " * immediately stop"
   ]
  },
  {
   "cell_type": "code",
   "execution_count": 13,
   "id": "220d1089",
   "metadata": {},
   "outputs": [
    {
     "name": "stdout",
     "output_type": "stream",
     "text": [
      "1\n",
      "2\n"
     ]
    }
   ],
   "source": [
    "for x in range(1,6):\n",
    "    if x==3:\n",
    "        break\n",
    "    print(x)"
   ]
  },
  {
   "cell_type": "markdown",
   "id": "c6db9860",
   "metadata": {},
   "source": [
    "Continue Statement\n",
    "* skip"
   ]
  },
  {
   "cell_type": "code",
   "execution_count": 14,
   "id": "5dbe67f3",
   "metadata": {},
   "outputs": [
    {
     "name": "stdout",
     "output_type": "stream",
     "text": [
      "1\n",
      "2\n",
      "4\n",
      "5\n"
     ]
    }
   ],
   "source": [
    "for x in range(1,6):\n",
    "    if x==3:\n",
    "        continue\n",
    "    print(x)"
   ]
  }
 ],
 "metadata": {
  "kernelspec": {
   "display_name": "Python 3",
   "language": "python",
   "name": "python3"
  },
  "language_info": {
   "codemirror_mode": {
    "name": "ipython",
    "version": 3
   },
   "file_extension": ".py",
   "mimetype": "text/x-python",
   "name": "python",
   "nbconvert_exporter": "python",
   "pygments_lexer": "ipython3",
   "version": "3.11.5"
  }
 },
 "nbformat": 4,
 "nbformat_minor": 5
}
