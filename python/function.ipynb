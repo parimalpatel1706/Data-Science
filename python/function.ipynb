{
 "cells": [
  {
   "cell_type": "markdown",
   "id": "712a334e",
   "metadata": {},
   "source": [
    "FUNCTION\n",
    "* built in function\n",
    "* user defined functions"
   ]
  },
  {
   "cell_type": "code",
   "execution_count": null,
   "id": "a826d6c3",
   "metadata": {},
   "outputs": [],
   "source": [
    "#def function_name(parameter): function define code\n",
    "#function_name(parameter ki value) function call"
   ]
  },
  {
   "cell_type": "code",
   "execution_count": 1,
   "id": "8ca365d6",
   "metadata": {},
   "outputs": [
    {
     "name": "stdout",
     "output_type": "stream",
     "text": [
      "hello hii kese ho\n"
     ]
    }
   ],
   "source": [
    "def temp():\n",
    "    print(\"hello hii kese ho\")\n",
    "temp()"
   ]
  },
  {
   "cell_type": "code",
   "execution_count": 4,
   "id": "efcde12a",
   "metadata": {},
   "outputs": [
    {
     "name": "stdout",
     "output_type": "stream",
     "text": [
      "8\n"
     ]
    }
   ],
   "source": [
    "def add(a,b):\n",
    "    print(a+b)\n",
    "add(a=3,b=5)"
   ]
  },
  {
   "cell_type": "code",
   "execution_count": 6,
   "id": "db8db216",
   "metadata": {},
   "outputs": [
    {
     "name": "stdout",
     "output_type": "stream",
     "text": [
      "your name is parimal\n"
     ]
    }
   ],
   "source": [
    "def temp (name = \"Rohit\"):\n",
    "    print(\"your name is\",name)\n",
    "temp(name=\"parimal\")"
   ]
  },
  {
   "cell_type": "code",
   "execution_count": 7,
   "id": "c7b698ad",
   "metadata": {},
   "outputs": [
    {
     "data": {
      "text/plain": [
       "300"
      ]
     },
     "execution_count": 7,
     "metadata": {},
     "output_type": "execute_result"
    }
   ],
   "source": [
    "def temp(a,b):\n",
    "    return a*b\n",
    "temp(a=10,b=30)"
   ]
  },
  {
   "cell_type": "code",
   "execution_count": null,
   "id": "027a99b4",
   "metadata": {},
   "outputs": [],
   "source": [
    "#task 3\n",
    "def print_number(n):\n",
    "    i=1\n",
    "    while i<=n:\n",
    "        print(i)\n",
    "        i+=1\n",
    "n=int(input(\"enter your number:-\"))\n",
    "print_number(n)\n",
    "# task 4\n",
    "def count_vowel(p):\n",
    "    count = 0\n",
    "    for i in p:\n",
    "        if(i=='a' or i=='e' or i=='i' or i=='o' or i=='u' ):\n",
    "            count+=1\n",
    "    return count\n",
    "vowel = count_vowel(\"parimal\")\n",
    "print(\"vowels count:-\",vowel)"
   ]
  }
 ],
 "metadata": {
  "kernelspec": {
   "display_name": "Python 3",
   "language": "python",
   "name": "python3"
  },
  "language_info": {
   "codemirror_mode": {
    "name": "ipython",
    "version": 3
   },
   "file_extension": ".py",
   "mimetype": "text/x-python",
   "name": "python",
   "nbconvert_exporter": "python",
   "pygments_lexer": "ipython3",
   "version": "3.11.5"
  }
 },
 "nbformat": 4,
 "nbformat_minor": 5
}
