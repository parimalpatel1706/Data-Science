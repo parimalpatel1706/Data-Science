{
 "cells": [
  {
   "cell_type": "code",
   "execution_count": 4,
   "id": "6db5a66b",
   "metadata": {},
   "outputs": [
    {
     "name": "stdout",
     "output_type": "stream",
     "text": [
      "Object of A\n"
     ]
    }
   ],
   "source": [
    " #7. What does the following code output?\n",
    "\n",
    "class A:\n",
    "    def __str__(self):\n",
    "        return \"Object of A\"\n",
    "a = A()\n",
    "print(a)\n",
    "\n"
   ]
  },
  {
   "cell_type": "code",
   "execution_count": 5,
   "id": "43749146",
   "metadata": {},
   "outputs": [
    {
     "ename": "AttributeError",
     "evalue": "'MyClass' object has no attribute '__my_private_method'",
     "output_type": "error",
     "traceback": [
      "\u001b[31m---------------------------------------------------------------------------\u001b[39m",
      "\u001b[31mAttributeError\u001b[39m                            Traceback (most recent call last)",
      "\u001b[36mCell\u001b[39m\u001b[36m \u001b[39m\u001b[32mIn[5]\u001b[39m\u001b[32m, line 7\u001b[39m\n\u001b[32m      5\u001b[39m         \u001b[38;5;28mprint\u001b[39m(\u001b[33m\"\u001b[39m\u001b[33mPrivate method\u001b[39m\u001b[33m\"\u001b[39m)\n\u001b[32m      6\u001b[39m obj = MyClass()\n\u001b[32m----> \u001b[39m\u001b[32m7\u001b[39m \u001b[43mobj\u001b[49m\u001b[43m.\u001b[49m\u001b[43m__my_private_method\u001b[49m()\n",
      "\u001b[31mAttributeError\u001b[39m: 'MyClass' object has no attribute '__my_private_method'"
     ]
    }
   ],
   "source": [
    "\n",
    "#  8. What will happen if you try to call a private method outside its class?\n",
    "\n",
    "class MyClass:\n",
    "    def __my_private_method(self):\n",
    "        print(\"Private method\")\n",
    "obj = MyClass()\n",
    "obj.__my_private_method()\n",
    "\n",
    "  "
   ]
  },
  {
   "cell_type": "code",
   "execution_count": 6,
   "id": "1f80975d",
   "metadata": {},
   "outputs": [
    {
     "name": "stdout",
     "output_type": "stream",
     "text": [
      "No value\n",
      "Value: 10\n"
     ]
    }
   ],
   "source": [
    "#5. What is the output of the following?\n",
    "\n",
    "class A:\n",
    "    def display(self, x=None):\n",
    "        if x:\n",
    "            print(\"Value:\", x)\n",
    "        else:\n",
    "            print(\"No value\")\n",
    "obj = A()\n",
    "obj.display()\n",
    "obj.display(10)\n",
    "\n"
   ]
  },
  {
   "cell_type": "code",
   "execution_count": 7,
   "id": "caef6332",
   "metadata": {},
   "outputs": [
    {
     "name": "stdout",
     "output_type": "stream",
     "text": [
      "New method\n",
      "Init method\n"
     ]
    }
   ],
   "source": [
    "#10. What does this code output?\n",
    "\n",
    "class Test:\n",
    "    def __new__(cls):\n",
    "        print(\"New method\")\n",
    "        return super().__new__(cls)\n",
    "    def __init__(self):\n",
    "        print(\"Init method\")\n",
    "\n",
    "obj = Test()\n",
    "\n"
   ]
  },
  {
   "cell_type": "code",
   "execution_count": 8,
   "id": "60ce78ce",
   "metadata": {},
   "outputs": [
    {
     "name": "stdout",
     "output_type": "stream",
     "text": [
      "True\n"
     ]
    }
   ],
   "source": [
    "#6. What is the result of this code?\n",
    "\n",
    "class X:\n",
    "    pass\n",
    "\n",
    "class Y(X):\n",
    "    pass\n",
    "\n",
    "class Z(Y):\n",
    "    pass\n",
    "\n",
    "print(issubclass(Z, X))\n",
    "  "
   ]
  },
  {
   "cell_type": "code",
   "execution_count": 9,
   "id": "9823a710",
   "metadata": {},
   "outputs": [
    {
     "name": "stdout",
     "output_type": "stream",
     "text": [
      "Parent\n"
     ]
    }
   ],
   "source": [
    "  #4. What will the following code output?\n",
    "\n",
    "class Parent:\n",
    "    def show(self):\n",
    "        print(\"Parent\")\n",
    "\n",
    "class Child(Parent):\n",
    "    def show(self):\n",
    "        print(\"Child\")\n",
    "\n",
    "obj = Parent()\n",
    "obj.show()"
   ]
  },
  {
   "cell_type": "code",
   "execution_count": 10,
   "id": "3d68dab5",
   "metadata": {},
   "outputs": [
    {
     "name": "stdout",
     "output_type": "stream",
     "text": [
      "B\n",
      "A\n"
     ]
    }
   ],
   "source": [
    "  #9. Predict the output:  \n",
    "\n",
    "class A:\n",
    "    def display(self):\n",
    "        print(\"A\")\n",
    "\n",
    "class B(A):\n",
    "    def display(self):\n",
    "        print(\"B\")\n",
    "        super().display()\n",
    "\n",
    "obj = B()\n",
    "obj.display()"
   ]
  },
  {
   "cell_type": "code",
   "execution_count": 11,
   "id": "e751022b",
   "metadata": {},
   "outputs": [
    {
     "name": "stdout",
     "output_type": "stream",
     "text": [
      "5\n"
     ]
    }
   ],
   "source": [
    " #3. What does the following code print?\n",
    "\n",
    "class A:\n",
    "    def __init__(self, x):\n",
    "        self.__x = x\n",
    "\n",
    "    def get_x(self):\n",
    "        return self.__x\n",
    "\n",
    "a = A(5)\n",
    "print(a.get_x())"
   ]
  },
  {
   "cell_type": "code",
   "execution_count": 12,
   "id": "08ecc008",
   "metadata": {},
   "outputs": [
    {
     "name": "stdout",
     "output_type": "stream",
     "text": [
      "A -> B\n"
     ]
    }
   ],
   "source": [
    "  #2. Predict the output of this code:\n",
    "\n",
    "class A:\n",
    "    def func(self):\n",
    "        return \"A\"\n",
    "\n",
    "class B(A):\n",
    "    def func(self):\n",
    "        return super().func() + \" -> B\"\n",
    "\n",
    "obj = B()\n",
    "print(obj.func())"
   ]
  },
  {
   "cell_type": "code",
   "execution_count": 13,
   "id": "fcd47a21",
   "metadata": {},
   "outputs": [
    {
     "name": "stdout",
     "output_type": "stream",
     "text": [
      "15\n"
     ]
    }
   ],
   "source": [
    " #1. What will the following code output?\n",
    "\n",
    "class A:\n",
    "    def __init__(self):\n",
    "        self.var = 10\n",
    "\n",
    "class B(A):\n",
    "    def __init__(self):\n",
    "        super().__init__()\n",
    "        self.var += 5\n",
    "\n",
    "obj = B()\n",
    "print(obj.var)"
   ]
  }
 ],
 "metadata": {
  "kernelspec": {
   "display_name": "Python 3",
   "language": "python",
   "name": "python3"
  },
  "language_info": {
   "codemirror_mode": {
    "name": "ipython",
    "version": 3
   },
   "file_extension": ".py",
   "mimetype": "text/x-python",
   "name": "python",
   "nbconvert_exporter": "python",
   "pygments_lexer": "ipython3",
   "version": "3.11.5"
  }
 },
 "nbformat": 4,
 "nbformat_minor": 5
}
